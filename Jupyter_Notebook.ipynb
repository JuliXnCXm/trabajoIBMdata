{
 "cells": [
  {
   "cell_type": "markdown",
   "metadata": {},
   "source": [
    "<center>\n",
    "    <img src=\"https://cf-courses-data.s3.us.cloud-object-storage.appdomain.cloud/IBMDeveloperSkillsNetwork-DS0105EN-SkillsNetwork/labs/Module2/images/SN_web_lightmode.png\" width=\"300\" alt=\"cognitiveclass.ai logo\">\n",
    "</center>\n"
   ]
  },
  {
   "cell_type": "markdown",
   "metadata": {
    "tags": []
   },
   "source": [
    "#### Add your code below following the instructions given in the course\n"
   ]
  },
  {
   "cell_type": "markdown",
   "metadata": {
    "tags": []
   },
   "source": [
    "# Presentacion IBM Data science"
   ]
  },
  {
   "cell_type": "markdown",
   "metadata": {},
   "source": [
    "El proposito de este cuaderno es mostrar lo aprendido en el curso de Herramientas para ciencia de datos de la ruta de aprendizaje IBM Data Science"
   ]
  },
  {
   "cell_type": "markdown",
   "metadata": {},
   "source": [
    "Lenguajes para ciencia de datos\n",
    "1.  Python\n",
    "2.  R\n",
    "3.  Java\n",
    "4.  Scala\n",
    "5.  Julia"
   ]
  },
  {
   "cell_type": "markdown",
   "metadata": {},
   "source": [
    "Bibliotecas de ciencia de datos\n",
    "1. Numpy\n",
    "2. pandas\n",
    "3. matplotlib\n",
    "4. ggplot\n",
    "5. scikit learn\n",
    "6. apache spark\n",
    "7. hadoop\n",
    "8. tensorflow"
   ]
  },
  {
   "cell_type": "markdown",
   "metadata": {},
   "source": [
    "| Herramienta |\n",
    "|-------------|\n",
    "| Git         |\n",
    "| Jupyter     |\n",
    "| Jupyter LAB |\n",
    "| RStudio     |\n",
    "| Paquetes    |\n",
    "| API         |\n"
   ]
  },
  {
   "cell_type": "markdown",
   "metadata": {},
   "source": [
    "# Expresiones Aritmeticas\n",
    "\n",
    "Suma = 2+2\n",
    "Multiplicacion = 2*2\n",
    "Divicion = 2/2\n"
   ]
  },
  {
   "cell_type": "code",
   "execution_count": null,
   "metadata": {},
   "outputs": [],
   "source": [
    "def calculadora(a,b,tipo):\n",
    "    if tipo== \"suma\":\n",
    "        return a+b\n",
    "    elif tipo == \"multiplicar\":\n",
    "        return a*b\n",
    "    else:\n",
    "        return \"Error\""
   ]
  },
  {
   "cell_type": "code",
   "execution_count": null,
   "metadata": {},
   "outputs": [],
   "source": [
    "def minutosAHoras(minutos):\n",
    "    return minutos/60"
   ]
  },
  {
   "cell_type": "markdown",
   "metadata": {},
   "source": [
    "# Julian Camilo Garcia Escobar"
   ]
  }
 ],
 "metadata": {
  "kernelspec": {
   "display_name": "Python",
   "language": "python",
   "name": "conda-env-python-py"
  },
  "language_info": {
   "codemirror_mode": {
    "name": "ipython",
    "version": 3
   },
   "file_extension": ".py",
   "mimetype": "text/x-python",
   "name": "python",
   "nbconvert_exporter": "python",
   "pygments_lexer": "ipython3",
   "version": "3.7.12"
  }
 },
 "nbformat": 4,
 "nbformat_minor": 4
}
